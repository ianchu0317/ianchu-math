{
 "cells": [
  {
   "cell_type": "markdown",
   "id": "2cbd506a-3e66-45ea-a0bc-4c29d765c925",
   "metadata": {},
   "source": [
    "# Física 6to año CNBA\n",
    "\n",
    "Apuntes de sexto año de Física Colegio Nacional de Buenos Aires.\n",
    "\n",
    "### Documentaciones\n",
    "- [Sympy](https://docs.sympy.org/latest/modules/vector/basics.html)\n",
    "\n",
    "### Temas\n",
    "- Mecánica\n",
    "    - Cinemática\n",
    "    - Dinámica\n",
    "    - Teoremas de conservación\n",
    "    - Equilibrio de Cuerpos extensos\n",
    "- Óptica Física\n",
    "- Física moderna\n",
    "    - Relatividad Espacial\n",
    "    - Cuántica (inicios)"
   ]
  },
  {
   "cell_type": "code",
   "execution_count": 7,
   "id": "95f5de01-c8ac-4504-9d83-060879ddc57c",
   "metadata": {},
   "outputs": [],
   "source": [
    "# Módulos a importar\n",
    "import sympy as sp\n",
    "from sympy.vector import CoordSys3D"
   ]
  },
  {
   "cell_type": "markdown",
   "id": "81276026-07f0-460f-a88c-9ac26f1a1d59",
   "metadata": {},
   "source": [
    "---\n",
    "## 27 de Marzo (Introducción)\n",
    "- Física → Materia que estudia el movimiento\n",
    "- ¿Cómo hacer elipses? → Con dos focos y uniendo los radios focales trazando el elipse.\n",
    "- No hay movimiento absoluto\n",
    "- El movimiento es relativo\n",
    "\n",
    "### ¿Qué es un sistema de referencia?\n",
    "- Importante porque describe cosas y permite orientarnos sobre un espacio determinado\n",
    "- → Ejes , vectores que apuntan cierto espacio → ¿Cómo sé dónde apuntan si no tengo un sistema de referencia?\n",
    "- Usar sistema de referencia es _pegar ejes en una situación real_\n",
    "\n"
   ]
  },
  {
   "cell_type": "code",
   "execution_count": 1,
   "id": "7ed064be-9ab3-4001-a596-9f47562fb46f",
   "metadata": {},
   "outputs": [],
   "source": [
    "S = CoordSys3D('S')  # Crear sistema de referencia → Un campo vectorial"
   ]
  },
  {
   "cell_type": "markdown",
   "id": "ce5bedc0-7b6c-4770-913d-be26bb282887",
   "metadata": {},
   "source": [
    "### ¿Cómo indicar ubicación (desplazamiento) en un sistema de referencia?\n",
    "- Coordenadas\n",
    "- Vector posición r = <x, y, z> = (x, y, z) = x*i + y*j + z*k"
   ]
  },
  {
   "cell_type": "code",
   "execution_count": 12,
   "id": "0bf94529-770c-48e3-9169-32353b71c020",
   "metadata": {},
   "outputs": [
    {
     "data": {
      "text/latex": [
       "$\\displaystyle \\mathbf{\\hat{i}_{S}} + \\mathbf{\\hat{j}_{S}} + \\mathbf{\\hat{k}_{S}}$"
      ],
      "text/plain": [
       "S.i + S.j + S.k"
      ]
     },
     "execution_count": 12,
     "metadata": {},
     "output_type": "execute_result"
    }
   ],
   "source": [
    "r = S.i + S.j + S.k\n",
    "r"
   ]
  },
  {
   "cell_type": "markdown",
   "id": "07b2cc06-1192-41d9-b972-82f3e1599dc2",
   "metadata": {},
   "source": [
    "- Vector desplazamiento D = r final - r inicial\n",
    "\n",
    "### Vectores de movimiento (Velocidad)\n",
    "    - Velocidad v → Relación de posición / tiempo\n",
    "    - Velocidad media Vm (vel constante, suponiendo mru) = delta posicion / delta tiempo → (para un intervalo de tiempo)\n",
    "    - En una función si se tiende t -> 0, se obtiene la velocidad instantánea (derivada)\n"
   ]
  },
  {
   "cell_type": "code",
   "execution_count": 19,
   "id": "d7b342dd-83b6-4c93-bb9e-b57e20012650",
   "metadata": {},
   "outputs": [
    {
     "data": {
      "text/latex": [
       "$\\displaystyle \\left. \\frac{d}{d \\xi_{1}} r{\\left(\\xi_{1} \\right)} \\right|_{\\substack{ \\xi_{1}=t }}$"
      ],
      "text/plain": [
       "Subs(Derivative(r(_xi_1), _xi_1), _xi_1, t)"
      ]
     },
     "execution_count": 19,
     "metadata": {},
     "output_type": "execute_result"
    }
   ],
   "source": [
    "v, t = sp.symbols('v t')\n",
    "r = sp.Function('r')\n",
    "dt = sp.Symbol('\\Delta{t}')\n",
    "v_eq = (r(t + dt) - r(t)) / dt\n",
    "v = sp.limit(v_eq, dt, 0)\n",
    "v"
   ]
  },
  {
   "cell_type": "markdown",
   "id": "2e14ba03-e272-47d0-bcbf-fa3b813aa28b",
   "metadata": {},
   "source": [
    "- La velocidad siempre es tangencial a la trayectoria\n",
    "- |V| = rapidez != |Vm|\n",
    "- Rapidez media = distancia recorrida / delta t  != |Vm|  → Por ejemplo ida y vuelta al mismo lugar → velocidad = 0, rapidez != 0"
   ]
  },
  {
   "cell_type": "markdown",
   "id": "e8f69588-40ed-4ba3-8cdf-1075db5d527f",
   "metadata": {},
   "source": [
    "### Vector de movimiento: Aceleración\n",
    "- Es la derivada de velocidad → Es la segunda derivada de posición\n",
    "- ¿Qué es la aceleración? → afecta (aumenta o disminuye velocidad)\n",
    "    - Si el ángulo entre vector aceleración y vector velocidad es 90º, entonces velocidad es constante\n",
    "    - Si el ángulo entre vector aceleración y vector velocidad es < 45º, entonces aumenta velocidad\n",
    "    - Si el ángulo entre vector aceleración y vector velocidad es > 90º, entonces disminuye velocidad\n",
    "- ¿Derivada de acerleación? → No es relevante hasta ciertos temas más profundos"
   ]
  },
  {
   "cell_type": "markdown",
   "id": "f88cca48-0037-42bf-9796-e3763be582ce",
   "metadata": {},
   "source": [
    "--- \n",
    "## 3 de Abril - Movimientos en 1-D\n",
    "### Movimiento Rectilíneo Uniforme (MRU)\n",
    "- Interés: movimiento sencillo, relacion con leyes de Newton\n",
    "- Aceleración = 0\n",
    "- Velocidad = Constante (cte)\n",
    "- Ecuaciones horarias MRU"
   ]
  },
  {
   "cell_type": "code",
   "execution_count": 22,
   "id": "8a3558db-d45a-4c4d-bc9d-b493efd45e27",
   "metadata": {},
   "outputs": [
    {
     "data": {
      "text/latex": [
       "$\\displaystyle x = v \\left(t - t_{0}\\right) + x_{0}$"
      ],
      "text/plain": [
       "Eq(x, v*(t - t0) + x0)"
      ]
     },
     "execution_count": 22,
     "metadata": {},
     "output_type": "execute_result"
    }
   ],
   "source": [
    "x, x0, t0,  v = sp.symbols('x x0 t0 v')\n",
    "x_eq = x0 + v*(t - t0)\n",
    "x_eq = sp.Eq(x, x_eq)\n",
    "x_eq"
   ]
  },
  {
   "cell_type": "markdown",
   "id": "3da8de2e-af8a-4110-b7e8-dcdf03c879aa",
   "metadata": {},
   "source": [
    "- Gráficos lineales → Creciente si velocidad positiva, decreciente si velocidad negativa\n",
    "- Vm = distancia total / tiempo total\n",
    "- En general, en un gráfico de velociad, el area entre el graf y y el eje es el desplazamiento \n",
    "    → Desplazamiento total = desplazamiento positivo + desplazamiento negativo\n",
    "- Distancia = |Desplazamiento positivo| + |Desplazamiento negativo|"
   ]
  },
  {
   "cell_type": "markdown",
   "id": "0f868616-486d-413c-81d9-a5608ce385c3",
   "metadata": {},
   "source": [
    "### Movimiento Rectilíneo Uniformemente Variado (MRUV)"
   ]
  },
  {
   "cell_type": "code",
   "execution_count": 33,
   "id": "d2566610-adf9-4976-970b-2c98a4828668",
   "metadata": {},
   "outputs": [],
   "source": [
    "# Variables iniciales\n",
    "x0, v0, t0, c = sp.symbols('x0 v0 t0 cte')\n",
    "t, x, v, a = sp.symbols('t x v a')\n",
    "ec = sp.Eq(v**2 - v0**2, 2*a*(x - x0))\n",
    "x = sp.Eq(x, x0 + v0*(t - t0) + (1/2)*a*(t - t0)**2)\n",
    "v = sp.Eq(v, v0 + a*(t - t0))\n",
    "a = sp.Eq(a, c)"
   ]
  },
  {
   "cell_type": "markdown",
   "id": "10d9b79b-d8cd-4420-8f68-5ffcc5b6b10e",
   "metadata": {},
   "source": [
    "- Ecuaciones horarias\n",
    "    - Aceleración(t)"
   ]
  },
  {
   "cell_type": "code",
   "execution_count": 26,
   "id": "8cbe773a-8872-4c44-827d-38cf186b4e70",
   "metadata": {},
   "outputs": [
    {
     "data": {
      "text/latex": [
       "$\\displaystyle a = cte$"
      ],
      "text/plain": [
       "Eq(a, cte)"
      ]
     },
     "execution_count": 26,
     "metadata": {},
     "output_type": "execute_result"
    }
   ],
   "source": [
    "a"
   ]
  },
  {
   "cell_type": "markdown",
   "id": "5923fb51-0fe4-409c-a8bf-5dc63bb4ff92",
   "metadata": {},
   "source": [
    "- Velocidad"
   ]
  },
  {
   "cell_type": "code",
   "execution_count": 29,
   "id": "cd1ceceb-49af-492e-96f6-4937c0bc7386",
   "metadata": {},
   "outputs": [
    {
     "data": {
      "text/latex": [
       "$\\displaystyle v = a \\left(t - t_{0}\\right) + v_{0}$"
      ],
      "text/plain": [
       "Eq(v, a*(t - t0) + v0)"
      ]
     },
     "execution_count": 29,
     "metadata": {},
     "output_type": "execute_result"
    }
   ],
   "source": [
    "v"
   ]
  },
  {
   "cell_type": "markdown",
   "id": "eba8de80-fa62-4ea6-bfbb-f28b71ec0b1f",
   "metadata": {},
   "source": [
    "- Posición"
   ]
  },
  {
   "cell_type": "code",
   "execution_count": 30,
   "id": "7ae4b751-f489-44bd-9256-c5e28c7f9e95",
   "metadata": {},
   "outputs": [
    {
     "data": {
      "text/latex": [
       "$\\displaystyle x = 0.5 a \\left(t - t_{0}\\right)^{2} + v_{0} \\left(t - t_{0}\\right) + x_{0}$"
      ],
      "text/plain": [
       "Eq(x, 0.5*a*(t - t0)**2 + v0*(t - t0) + x0)"
      ]
     },
     "execution_count": 30,
     "metadata": {},
     "output_type": "execute_result"
    }
   ],
   "source": [
    "x"
   ]
  },
  {
   "cell_type": "markdown",
   "id": "e353aa50-ef3a-4403-9ff8-cf29f1a4326b",
   "metadata": {},
   "source": [
    "- Ecuación complementaria"
   ]
  },
  {
   "cell_type": "code",
   "execution_count": 34,
   "id": "bb7fefcb-77b7-4ab7-abf4-6dff232261e5",
   "metadata": {},
   "outputs": [
    {
     "data": {
      "text/latex": [
       "$\\displaystyle v^{2} - v_{0}^{2} = 2 a \\left(x - x_{0}\\right)$"
      ],
      "text/plain": [
       "Eq(v**2 - v0**2, 2*a*(x - x0))"
      ]
     },
     "execution_count": 34,
     "metadata": {},
     "output_type": "execute_result"
    }
   ],
   "source": [
    "ec"
   ]
  },
  {
   "cell_type": "markdown",
   "id": "fb86e2cb-dc70-420d-98d1-07dc8cf17b78",
   "metadata": {},
   "source": [
    "---\n",
    "## 17 de Abril - Movmimientos en 2-D\n"
   ]
  },
  {
   "cell_type": "code",
   "execution_count": null,
   "id": "51389cc3-9de6-4a0a-9666-98ad04576db3",
   "metadata": {},
   "outputs": [],
   "source": []
  }
 ],
 "metadata": {
  "kernelspec": {
   "display_name": "Python 3 (ipykernel)",
   "language": "python",
   "name": "python3"
  },
  "language_info": {
   "codemirror_mode": {
    "name": "ipython",
    "version": 3
   },
   "file_extension": ".py",
   "mimetype": "text/x-python",
   "name": "python",
   "nbconvert_exporter": "python",
   "pygments_lexer": "ipython3",
   "version": "3.11.2"
  }
 },
 "nbformat": 4,
 "nbformat_minor": 5
}
