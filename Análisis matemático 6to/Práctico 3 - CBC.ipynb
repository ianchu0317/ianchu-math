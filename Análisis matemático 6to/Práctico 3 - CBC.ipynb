{
 "cells": [
  {
   "cell_type": "markdown",
   "id": "8d6206c4-6db2-460c-86da-85aae62b41b2",
   "metadata": {},
   "source": [
    "# Práctico 3 CBC - Sucesiones"
   ]
  },
  {
   "cell_type": "markdown",
   "id": "e177fa77-1a87-4ad0-857a-549a4ec4b543",
   "metadata": {},
   "source": [
    "## Ejercicio 2 vi\n",
    "\n",
    "an = {0, 1/2, 0, 1/3, 0, 1/4, 0, 1/5}"
   ]
  },
  {
   "cell_type": "code",
   "execution_count": 4,
   "id": "d9e1a072-3e87-4cb3-b83a-97fa7fd8a1bf",
   "metadata": {},
   "outputs": [
    {
     "name": "stdin",
     "output_type": "stream",
     "text": [
      "Ingrese número del término n:  200\n"
     ]
    },
    {
     "name": "stdout",
     "output_type": "stream",
     "text": [
      "Término a200 es 101\n"
     ]
    }
   ],
   "source": [
    "n = int(input('Ingrese número del término n: '))\n",
    "\n",
    "def a(n):\n",
    "    if n % 2 == 0:\n",
    "        # Contador de pares comenzando desde cero\n",
    "        counter = 0\n",
    "        for x in range(0, n+1, 2):\n",
    "            counter += 1\n",
    "        return (counter)\n",
    "    \n",
    "    else:\n",
    "        return 0\n",
    "\n",
    "print(f'Término a{n} es {a(n)}')"
   ]
  },
  {
   "cell_type": "markdown",
   "id": "9c7a5ae0-ee07-431c-94d4-8729c1d24faa",
   "metadata": {},
   "source": [
    "## Ejercicio 2 ix\n",
    "an = {1, 1, 1/2, 2, 1/3, 3, 1/4, 4, 1/5}"
   ]
  },
  {
   "cell_type": "code",
   "execution_count": 6,
   "id": "b4297dc5-7d24-4dd9-a286-76dc7936f27c",
   "metadata": {},
   "outputs": [
    {
     "name": "stdin",
     "output_type": "stream",
     "text": [
      "Ingrese número del término n:  100\n"
     ]
    },
    {
     "name": "stdout",
     "output_type": "stream",
     "text": [
      "Término a100 es 51\n"
     ]
    }
   ],
   "source": [
    "n = int(input('Ingrese número del término n: '))\n",
    "\n",
    "def a(n):\n",
    "    if n % 2 == 0:\n",
    "        # Contador de pares comenzando desde cero\n",
    "        counter = 0\n",
    "        for x in range(0, n+1, 2):\n",
    "            counter += 1\n",
    "        return counter\n",
    "    \n",
    "    else:\n",
    "        counter = 0\n",
    "        for x in range(1, n+1, 2):\n",
    "            counter += 1\n",
    "        return 1/counter\n",
    "\n",
    "print(f'Término a{n} es {a(n)}')"
   ]
  },
  {
   "cell_type": "code",
   "execution_count": null,
   "id": "4a38f7f2-d9ba-48c0-97d3-c03b68a9fb48",
   "metadata": {},
   "outputs": [],
   "source": []
  }
 ],
 "metadata": {
  "kernelspec": {
   "display_name": "Python 3 (ipykernel)",
   "language": "python",
   "name": "python3"
  },
  "language_info": {
   "codemirror_mode": {
    "name": "ipython",
    "version": 3
   },
   "file_extension": ".py",
   "mimetype": "text/x-python",
   "name": "python",
   "nbconvert_exporter": "python",
   "pygments_lexer": "ipython3",
   "version": "3.11.2"
  }
 },
 "nbformat": 4,
 "nbformat_minor": 5
}
