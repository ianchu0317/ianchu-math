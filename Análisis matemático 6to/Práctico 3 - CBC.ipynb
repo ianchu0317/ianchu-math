{
 "cells": [
  {
   "cell_type": "markdown",
   "id": "8d6206c4-6db2-460c-86da-85aae62b41b2",
   "metadata": {},
   "source": [
    "# Práctico 3 CBC - Sucesiones\n",
    "\n",
    "El código del presente notbook se encuentra en [GitHub](https://github.com/ianchu0317/python-math/blob/main/An%C3%A1lisis%20matem%C3%A1tico%206to/Pr%C3%A1ctico%203%20-%20CBC.ipynb).\n"
   ]
  },
  {
   "cell_type": "markdown",
   "id": "e177fa77-1a87-4ad0-857a-549a4ec4b543",
   "metadata": {},
   "source": [
    "---\n",
    "## Ejercicio 2 vi\n",
    "\n",
    "an = {0, 1/2, 0, 1/3, 0, 1/4, 0, 1/5}"
   ]
  },
  {
   "cell_type": "code",
   "execution_count": 4,
   "id": "d9e1a072-3e87-4cb3-b83a-97fa7fd8a1bf",
   "metadata": {},
   "outputs": [
    {
     "name": "stdin",
     "output_type": "stream",
     "text": [
      "Ingrese número del término n:  200\n"
     ]
    },
    {
     "name": "stdout",
     "output_type": "stream",
     "text": [
      "Término a200 es 101\n"
     ]
    }
   ],
   "source": [
    "n = int(input('Ingrese número del término n: '))\n",
    "\n",
    "def a(n):\n",
    "    if n % 2 == 0:\n",
    "        # Contador de pares comenzando desde cero\n",
    "        counter = 0\n",
    "        for x in range(0, n+1, 2):\n",
    "            counter += 1\n",
    "        return (counter)\n",
    "    \n",
    "    else:\n",
    "        return 0\n",
    "\n",
    "print(f'Término a{n} es {a(n)}')"
   ]
  },
  {
   "cell_type": "markdown",
   "id": "9c7a5ae0-ee07-431c-94d4-8729c1d24faa",
   "metadata": {},
   "source": [
    "## Ejercicio 2 ix\n",
    "an = {1, 1, 1/2, 2, 1/3, 3, 1/4, 4, 1/5}"
   ]
  },
  {
   "cell_type": "code",
   "execution_count": 6,
   "id": "b4297dc5-7d24-4dd9-a286-76dc7936f27c",
   "metadata": {},
   "outputs": [
    {
     "name": "stdin",
     "output_type": "stream",
     "text": [
      "Ingrese número del término n:  100\n"
     ]
    },
    {
     "name": "stdout",
     "output_type": "stream",
     "text": [
      "Término a100 es 51\n"
     ]
    }
   ],
   "source": [
    "n = int(input('Ingrese número del término n: '))\n",
    "\n",
    "def a(n):\n",
    "    if n % 2 == 0:\n",
    "        # Contador de pares comenzando desde cero\n",
    "        counter = 0\n",
    "        for x in range(0, n+1, 2):\n",
    "            counter += 1\n",
    "        return counter\n",
    "    \n",
    "    else:\n",
    "        counter = 0\n",
    "        for x in range(1, n+1, 2):\n",
    "            counter += 1\n",
    "        return 1/counter\n",
    "\n",
    "print(f'Término a{n} es {a(n)}')"
   ]
  },
  {
   "cell_type": "markdown",
   "id": "78447a54-4dc6-4789-9186-613da4f5d6ce",
   "metadata": {},
   "source": [
    "---\n",
    "## Ejercicio 6\n",
    "Continuar con las siguientes sucesiones."
   ]
  },
  {
   "cell_type": "code",
   "execution_count": 1,
   "id": "dc215f40-f5bd-4dc6-ab09-15d42f66e2b8",
   "metadata": {},
   "outputs": [],
   "source": [
    "import sympy as sp\n",
    "\n",
    "n = sp.Symbol('n')"
   ]
  },
  {
   "cell_type": "markdown",
   "id": "5427d204-186b-4cc2-a2a6-39859073dfb5",
   "metadata": {},
   "source": [
    "### punto a)"
   ]
  },
  {
   "cell_type": "code",
   "execution_count": 2,
   "id": "4a20bd06-d008-46f7-a239-5c9c170e3a0f",
   "metadata": {},
   "outputs": [
    {
     "data": {
      "text/latex": [
       "$\\displaystyle \\frac{n^{2} - 5 n + 7}{n + 3} + \\frac{n^{2} + 5}{n + 1}$"
      ],
      "text/plain": [
       "(n**2 - 5*n + 7)/(n + 3) + (n**2 + 5)/(n + 1)"
      ]
     },
     "execution_count": 2,
     "metadata": {},
     "output_type": "execute_result"
    }
   ],
   "source": [
    "an = (n**2 - 5*n + 7)/(n + 3) + (n**2 + 5)/(n + 1)\n",
    "an"
   ]
  },
  {
   "cell_type": "code",
   "execution_count": 16,
   "id": "e145a5fe-d03b-474c-ac35-ea5bd8419917",
   "metadata": {},
   "outputs": [
    {
     "name": "stdout",
     "output_type": "stream",
     "text": [
      "Sucesion An:  [-1, 0, -3 + sqrt(10), -4 + 3*sqrt(2), -5 + 2*sqrt(7), -6 + 2*sqrt(10), -7 + 3*sqrt(6), -8 + sqrt(70), -9 + 2*sqrt(22), -10 + 6*sqrt(3)]\n"
     ]
    }
   ],
   "source": [
    "def sucesion(an):\n",
    "    array = list()\n",
    "    for nat in range(1, 11):\n",
    "        array.append(an.subs(n, nat))\n",
    "    print('Sucesion An: ', array)\n",
    "sucesion(an)"
   ]
  },
  {
   "cell_type": "markdown",
   "id": "2cb6749f-ba11-4b34-8521-5ad0af95fb9b",
   "metadata": {},
   "source": [
    "### punto b"
   ]
  },
  {
   "cell_type": "code",
   "execution_count": 4,
   "id": "3ac3fcf3-8bd0-4354-9e5d-1068b4a75788",
   "metadata": {},
   "outputs": [
    {
     "data": {
      "text/latex": [
       "$\\displaystyle \\frac{n^{2} - 5 n + 7}{n + 3} - \\frac{n^{2} + 5}{n + 1}$"
      ],
      "text/plain": [
       "(n**2 - 5*n + 7)/(n + 3) - (n**2 + 5)/(n + 1)"
      ]
     },
     "execution_count": 4,
     "metadata": {},
     "output_type": "execute_result"
    }
   ],
   "source": [
    "an = (n**2 - 5*n + 7)/(n + 3) - (n**2 + 5)/(n + 1)\n",
    "an"
   ]
  },
  {
   "cell_type": "code",
   "execution_count": 5,
   "id": "a87deb1e-df29-43d4-a7c1-9d2baf49d713",
   "metadata": {},
   "outputs": [
    {
     "name": "stdout",
     "output_type": "stream",
     "text": [
      "Sucesion An:  [-9/4, -14/5, -10/3, -132/35, -33/8, -278/63, -93/20, -160/33, -301/60, -738/143]\n"
     ]
    }
   ],
   "source": [
    "sucesion(an)"
   ]
  },
  {
   "cell_type": "markdown",
   "id": "391bdf4e-902f-4acf-b067-84592bef13e5",
   "metadata": {},
   "source": [
    "### punto c"
   ]
  },
  {
   "cell_type": "code",
   "execution_count": 7,
   "id": "ac9c2610-94ee-44a0-82da-d8023a86d85e",
   "metadata": {},
   "outputs": [
    {
     "data": {
      "text/latex": [
       "$\\displaystyle n + \\sqrt{n^{2} + n - 2}$"
      ],
      "text/plain": [
       "n + sqrt(n**2 + n - 2)"
      ]
     },
     "execution_count": 7,
     "metadata": {},
     "output_type": "execute_result"
    }
   ],
   "source": [
    "an = sp.sqrt(n**2 + n - 2) + n\n",
    "an"
   ]
  },
  {
   "cell_type": "code",
   "execution_count": 11,
   "id": "b0a12070-cccd-4ac4-979e-a56541311a06",
   "metadata": {},
   "outputs": [
    {
     "name": "stdout",
     "output_type": "stream",
     "text": [
      "Sucesion An:  [1, 4, 3 + sqrt(10), 4 + 3*sqrt(2), 5 + 2*sqrt(7), 6 + 2*sqrt(10), 7 + 3*sqrt(6), 8 + sqrt(70), 9 + 2*sqrt(22), 10 + 6*sqrt(3)]\n"
     ]
    }
   ],
   "source": [
    "sucesion(an)"
   ]
  },
  {
   "cell_type": "markdown",
   "id": "d36e00f9-2e17-4590-b817-f9d00903d9fc",
   "metadata": {},
   "source": [
    "### punto d"
   ]
  },
  {
   "cell_type": "code",
   "execution_count": 12,
   "id": "28b4bbcc-19dc-4fe8-bb26-1b1d27d630b4",
   "metadata": {},
   "outputs": [
    {
     "data": {
      "text/latex": [
       "$\\displaystyle - n + \\sqrt{n^{2} + n - 2}$"
      ],
      "text/plain": [
       "-n + sqrt(n**2 + n - 2)"
      ]
     },
     "execution_count": 12,
     "metadata": {},
     "output_type": "execute_result"
    }
   ],
   "source": [
    "an = sp.sqrt(n**2 + n - 2) - n\n",
    "an"
   ]
  },
  {
   "cell_type": "code",
   "execution_count": 13,
   "id": "df2e37c1-317d-4ba9-b425-adcf11a42572",
   "metadata": {},
   "outputs": [
    {
     "name": "stdout",
     "output_type": "stream",
     "text": [
      "Sucesion An:  [-1, 0, -3 + sqrt(10), -4 + 3*sqrt(2), -5 + 2*sqrt(7), -6 + 2*sqrt(10), -7 + 3*sqrt(6), -8 + sqrt(70), -9 + 2*sqrt(22), -10 + 6*sqrt(3)]\n"
     ]
    }
   ],
   "source": [
    "sucesion(an)"
   ]
  },
  {
   "cell_type": "markdown",
   "id": "50a70acc-47d8-4ba6-a95f-2a5a7d1df863",
   "metadata": {},
   "source": [
    "### punto e"
   ]
  },
  {
   "cell_type": "code",
   "execution_count": 17,
   "id": "c59262da-a1c3-46f7-95c5-055dc67cdcde",
   "metadata": {},
   "outputs": [
    {
     "data": {
      "text/latex": [
       "$\\displaystyle \\sqrt{n^{2} + 1} - \\sqrt{n^{2} - n + 3}$"
      ],
      "text/plain": [
       "sqrt(n**2 + 1) - sqrt(n**2 - n + 3)"
      ]
     },
     "execution_count": 17,
     "metadata": {},
     "output_type": "execute_result"
    }
   ],
   "source": [
    "an = sp.sqrt(n**2 + 1) - sp.sqrt(n**2 - n + 3)\n",
    "an"
   ]
  },
  {
   "cell_type": "code",
   "execution_count": null,
   "id": "b312d708-cabb-435b-be88-1d0aca7ec2ad",
   "metadata": {},
   "outputs": [],
   "source": [
    "sucesion(an)"
   ]
  },
  {
   "cell_type": "markdown",
   "id": "479988c3-8e7e-4ca8-aaa4-123e86abc4a9",
   "metadata": {},
   "source": [
    "### punto f"
   ]
  },
  {
   "cell_type": "code",
   "execution_count": 18,
   "id": "8299c1c2-7dd2-456e-91f8-70b3ce16954e",
   "metadata": {},
   "outputs": [
    {
     "data": {
      "text/latex": [
       "$\\displaystyle \\sqrt{\\frac{2 n^{2} - 1}{3 n^{2} + 2}} + \\frac{3 n - 1}{2 n + 3}$"
      ],
      "text/plain": [
       "sqrt((2*n**2 - 1)/(3*n**2 + 2)) + (3*n - 1)/(2*n + 3)"
      ]
     },
     "execution_count": 18,
     "metadata": {},
     "output_type": "execute_result"
    }
   ],
   "source": [
    "an = sp.sqrt((2*n**2 - 1)/(3*n**2 + 2)) + (3*n - 1)/(2*n + 3)\n",
    "an"
   ]
  },
  {
   "cell_type": "code",
   "execution_count": 19,
   "id": "c69ef991-2360-445c-91e1-225df18a014b",
   "metadata": {},
   "outputs": [
    {
     "name": "stdout",
     "output_type": "stream",
     "text": [
      "Sucesion An:  [2/5 + sqrt(5)/5, sqrt(2)/2 + 5/7, sqrt(493)/29 + 8/9, sqrt(62)/10 + 1, sqrt(77)/11 + 14/13, sqrt(7810)/110 + 17/15, sqrt(14453)/149 + 20/17, sqrt(24638)/194 + 23/19, sqrt(805)/35 + 26/21, sqrt(60098)/302 + 29/23]\n"
     ]
    }
   ],
   "source": [
    "sucesion(an)"
   ]
  },
  {
   "cell_type": "markdown",
   "id": "1aa4d2e5-fffe-493a-b468-9530aecea342",
   "metadata": {},
   "source": [
    "### punto g"
   ]
  },
  {
   "cell_type": "code",
   "execution_count": 20,
   "id": "b8294d06-0392-4ebc-9fc2-ae7065319db9",
   "metadata": {},
   "outputs": [
    {
     "data": {
      "text/latex": [
       "$\\displaystyle \\sqrt{n} \\left(- \\sqrt{n} + \\sqrt{n + 2}\\right)$"
      ],
      "text/plain": [
       "sqrt(n)*(-sqrt(n) + sqrt(n + 2))"
      ]
     },
     "execution_count": 20,
     "metadata": {},
     "output_type": "execute_result"
    }
   ],
   "source": [
    "an = sp.sqrt(n)*(sp.sqrt(n + 2) - sp.sqrt(n))\n",
    "an"
   ]
  },
  {
   "cell_type": "code",
   "execution_count": 21,
   "id": "6c0a4723-8fd2-40df-9e1c-e7a38b829e61",
   "metadata": {},
   "outputs": [
    {
     "name": "stdout",
     "output_type": "stream",
     "text": [
      "Sucesion An:  [-1 + sqrt(3), sqrt(2)*(2 - sqrt(2)), sqrt(3)*(-sqrt(3) + sqrt(5)), -4 + 2*sqrt(6), sqrt(5)*(-sqrt(5) + sqrt(7)), sqrt(6)*(-sqrt(6) + 2*sqrt(2)), sqrt(7)*(3 - sqrt(7)), 2*sqrt(2)*(-2*sqrt(2) + sqrt(10)), -9 + 3*sqrt(11), sqrt(10)*(-sqrt(10) + 2*sqrt(3))]\n"
     ]
    }
   ],
   "source": [
    "sucesion(an)"
   ]
  },
  {
   "cell_type": "markdown",
   "id": "e724d5c2-5415-4540-9108-9f0b5d4930ce",
   "metadata": {},
   "source": [
    "### punto h "
   ]
  },
  {
   "cell_type": "code",
   "execution_count": 22,
   "id": "ed2418ba-82ea-4c6e-b946-26fbebfbe5c8",
   "metadata": {},
   "outputs": [
    {
     "data": {
      "text/latex": [
       "$\\displaystyle n \\left(- \\sqrt{n} + \\sqrt{n + 2}\\right)$"
      ],
      "text/plain": [
       "n*(-sqrt(n) + sqrt(n + 2))"
      ]
     },
     "execution_count": 22,
     "metadata": {},
     "output_type": "execute_result"
    }
   ],
   "source": [
    "an = n*(sp.sqrt(n + 2) - sp.sqrt(n))\n",
    "an"
   ]
  },
  {
   "cell_type": "code",
   "execution_count": 23,
   "id": "05250f10-fdbc-43fa-8efa-eebf1ab8168a",
   "metadata": {},
   "outputs": [
    {
     "name": "stdout",
     "output_type": "stream",
     "text": [
      "Sucesion An:  [-1 + sqrt(3), 4 - 2*sqrt(2), -3*sqrt(3) + 3*sqrt(5), -8 + 4*sqrt(6), -5*sqrt(5) + 5*sqrt(7), -6*sqrt(6) + 12*sqrt(2), 21 - 7*sqrt(7), -16*sqrt(2) + 8*sqrt(10), -27 + 9*sqrt(11), -10*sqrt(10) + 20*sqrt(3)]\n"
     ]
    }
   ],
   "source": [
    "sucesion(an)"
   ]
  },
  {
   "cell_type": "markdown",
   "id": "ae437fca-f619-4ae4-9960-c9845ab62b8d",
   "metadata": {},
   "source": [
    "### punto i "
   ]
  },
  {
   "cell_type": "code",
   "execution_count": 24,
   "id": "cf94bced-6f6c-40f0-8550-31e060432197",
   "metadata": {},
   "outputs": [
    {
     "data": {
      "text/latex": [
       "$\\displaystyle \\frac{n}{\\sqrt{n + 1} - 1}$"
      ],
      "text/plain": [
       "n/(sqrt(n + 1) - 1)"
      ]
     },
     "execution_count": 24,
     "metadata": {},
     "output_type": "execute_result"
    }
   ],
   "source": [
    "an = n / (sp.sqrt(n + 1) - 1)\n",
    "an"
   ]
  },
  {
   "cell_type": "code",
   "execution_count": 25,
   "id": "3ef2e6f9-55ab-41da-ac57-a86fe771d52b",
   "metadata": {},
   "outputs": [
    {
     "name": "stdout",
     "output_type": "stream",
     "text": [
      "Sucesion An:  [1/(-1 + sqrt(2)), 2/(-1 + sqrt(3)), 3, 4/(-1 + sqrt(5)), 5/(-1 + sqrt(6)), 6/(-1 + sqrt(7)), 7/(-1 + 2*sqrt(2)), 4, 9/(-1 + sqrt(10)), 10/(-1 + sqrt(11))]\n"
     ]
    }
   ],
   "source": [
    "sucesion(an)"
   ]
  },
  {
   "cell_type": "markdown",
   "id": "c77eb0df-1bf9-4098-ad52-79e0e75f5cdd",
   "metadata": {},
   "source": [
    "### punto j "
   ]
  },
  {
   "cell_type": "code",
   "execution_count": 26,
   "id": "92aeb83f-4648-4eef-86cc-50ec1829ec59",
   "metadata": {},
   "outputs": [
    {
     "data": {
      "text/latex": [
       "$\\displaystyle \\sqrt{n} \\left(- \\sqrt{n} + \\sqrt{n^{2} + 2}\\right)$"
      ],
      "text/plain": [
       "sqrt(n)*(-sqrt(n) + sqrt(n**2 + 2))"
      ]
     },
     "execution_count": 26,
     "metadata": {},
     "output_type": "execute_result"
    }
   ],
   "source": [
    "an = sp.sqrt(n)*(sp.sqrt(n**2 + 2) - sp.sqrt(n))\n",
    "an"
   ]
  },
  {
   "cell_type": "code",
   "execution_count": 27,
   "id": "8b0b1b60-d1cc-44cb-974a-e66b6c909b13",
   "metadata": {},
   "outputs": [
    {
     "name": "stdout",
     "output_type": "stream",
     "text": [
      "Sucesion An:  [-1 + sqrt(3), sqrt(2)*(-sqrt(2) + sqrt(6)), sqrt(3)*(-sqrt(3) + sqrt(11)), -4 + 6*sqrt(2), sqrt(5)*(-sqrt(5) + 3*sqrt(3)), sqrt(6)*(-sqrt(6) + sqrt(38)), sqrt(7)*(-sqrt(7) + sqrt(51)), 2*sqrt(2)*(-2*sqrt(2) + sqrt(66)), -9 + 3*sqrt(83), sqrt(10)*(-sqrt(10) + sqrt(102))]\n"
     ]
    }
   ],
   "source": [
    "sucesion(an)"
   ]
  }
 ],
 "metadata": {
  "kernelspec": {
   "display_name": "Python 3 (ipykernel)",
   "language": "python",
   "name": "python3"
  },
  "language_info": {
   "codemirror_mode": {
    "name": "ipython",
    "version": 3
   },
   "file_extension": ".py",
   "mimetype": "text/x-python",
   "name": "python",
   "nbconvert_exporter": "python",
   "pygments_lexer": "ipython3",
   "version": "3.11.2"
  }
 },
 "nbformat": 4,
 "nbformat_minor": 5
}
