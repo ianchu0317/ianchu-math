{
 "cells": [
  {
   "cell_type": "code",
   "execution_count": 19,
   "id": "905cb47a-1237-4f19-a89b-960c78f78397",
   "metadata": {},
   "outputs": [
    {
     "name": "stdin",
     "output_type": "stream",
     "text": [
      "Ingrese la función cuadrática a analizar:  x**2+5\n"
     ]
    },
    {
     "name": "stdout",
     "output_type": "stream",
     "text": [
      "[]\n"
     ]
    },
    {
     "ename": "IndexError",
     "evalue": "list index out of range",
     "output_type": "error",
     "traceback": [
      "\u001b[1;31m---------------------------------------------------------------------------\u001b[0m",
      "\u001b[1;31mIndexError\u001b[0m                                Traceback (most recent call last)",
      "Cell \u001b[1;32mIn[19], line 52\u001b[0m\n\u001b[0;32m     50\u001b[0m x_sim \u001b[38;5;241m=\u001b[39m f_sim(f_expr)\n\u001b[0;32m     51\u001b[0m \u001b[38;5;28mprint\u001b[39m(x_sim)\n\u001b[1;32m---> 52\u001b[0m vertice \u001b[38;5;241m=\u001b[39m (\u001b[43mx_sim\u001b[49m\u001b[43m[\u001b[49m\u001b[38;5;241;43m0\u001b[39;49m\u001b[43m]\u001b[49m, f_eval(x_sim[\u001b[38;5;241m0\u001b[39m]))\n\u001b[0;32m     54\u001b[0m \u001b[38;5;66;03m# Rango del gráfico de la función\u001b[39;00m\n\u001b[0;32m     55\u001b[0m x_values \u001b[38;5;241m=\u001b[39m \u001b[38;5;28;01mNone\u001b[39;00m\n",
      "\u001b[1;31mIndexError\u001b[0m: list index out of range"
     ]
    }
   ],
   "source": [
    "# https://docs.sympy.org/latest/modules/core.html\n",
    "# https://matplotlib.org/stable/users/explain/quick_start.html#quick-start\n",
    "# https://stackoverflow.com/questions/14444973/python-global-variable-usage\n",
    "# https://medium.com/@instailyacademy/best-practices-for-variable-assignments-in-python-dd63c93bd68f\n",
    "# https://numpy.org/devdocs/user/quickstart.html\n",
    "# https://docs.sympy.org/latest/modules/evalf.html\n",
    "# https://stackoverflow.com/questions/15210704/ignore-imaginary-roots-in-sympy\n",
    "\n",
    "import matplotlib.pyplot as plt\n",
    "import numpy as np\n",
    "from sympy import *\n",
    "\n",
    "\n",
    "# Variables globales\n",
    "x = Symbol('x', real=True)\n",
    "ceros = []\n",
    "x_sim = None\n",
    "vertice = None\n",
    "\n",
    "\n",
    "# Hallar ceros de la funcion\n",
    "def f_ceros(f, f_):\n",
    "    cero_ecuacion = Eq(f, 0)\n",
    "    x_ceros = solve(cero_ecuacion, x)\n",
    "    if len(x_ceros) != 0:\n",
    "        for x_cero in x_ceros:\n",
    "            ceros.append((x_cero, f_(x_cero)))\n",
    "\n",
    "\n",
    "# Hallar eje_x simetría de la funcion\n",
    "'''\n",
    "Idea inicial 1: hallar simetria usando el promedio de los ceros\n",
    "Idea inicial 2: utilizando formula -b/2a \n",
    "Problema 1: ¿Qué pasa si no hay ceros?\n",
    "Problema 2: no se puede saber valor b y a\n",
    "Solución: hallar valor x del vertice derivando la funcion\n",
    "'''\n",
    "def f_sim(f):\n",
    "    f_diff = diff(f, x)\n",
    "    x_sim_ecuacion = Eq(f_diff, 0)\n",
    "    return solve(x_sim_ecuacion, x)\n",
    "\n",
    "\n",
    "# Ingresar la función a analizar \n",
    "f_str = input(\"Ingrese la función cuadrática a analizar: \")\n",
    "f_expr = sympify(f_str)\n",
    "f_eval = lambdify(x, f_expr)\n",
    "\n",
    "# Análisis de puntos importantes \n",
    "f_ceros(f_expr, f_eval)\n",
    "x_sim = f_sim(f_expr)\n",
    "vertice = (x_sim[0], f_eval(x_sim[0]))\n",
    "\n",
    "# Rango del gráfico de la función\n",
    "x_values = None\n",
    "\n",
    "if len(ceros) == 0 or len(ceros) == 1: \n",
    "    x_values = np.linspace(float(N(vertice[0])) - 10, floatN((vertice[0])) + 10, 100)\n",
    "elif len(ceros) == 2:\n",
    "    x_values = np.linspace(float(N(ceros[0][0])), float(N(ceros[1][0])), 100)\n",
    "\n",
    "y_values = f_eval(x_values)\n",
    "\n",
    "# Gráfico de la función \n",
    "fig, ax = plt.subplots(figsize=(10, 5))\n",
    "\n",
    "ax.plot(x_values, y_values, linestyle='-')\n",
    "ax.set_xlabel('eje X')\n",
    "ax.set_ylabel('eje y')\n",
    "\n",
    "ax.annotate(f'vértice: {vertice}', xy=(vertice[0], vertice[1]), xytext=(vertice[0] + 0.5, vertice[1] + 0.5), \n",
    "            arrowprops=dict(facecolor='black', shrink=5))\n",
    "\n",
    "plt.grid(visible=True, color='r', which='major', axis='both', linestyle=':', linewidth=0.5)\n",
    "\n",
    "plt.show()\n"
   ]
  },
  {
   "cell_type": "markdown",
   "id": "66a0b05b-6e92-48be-9d53-d1600fafd5c3",
   "metadata": {},
   "source": [
    "# Problemas\n",
    "Problema actual: falta poder agregar algunas cosas como int crecimiento y decrecimiento, ajustar xlim, ylilm. También problemas con tomar raices reales y no complejas"
   ]
  },
  {
   "cell_type": "code",
   "execution_count": null,
   "id": "e2c29e2a-14ed-42b6-84f7-62fad92b3f41",
   "metadata": {},
   "outputs": [],
   "source": []
  }
 ],
 "metadata": {
  "kernelspec": {
   "display_name": "Python 3 (ipykernel)",
   "language": "python",
   "name": "python3"
  },
  "language_info": {
   "codemirror_mode": {
    "name": "ipython",
    "version": 3
   },
   "file_extension": ".py",
   "mimetype": "text/x-python",
   "name": "python",
   "nbconvert_exporter": "python",
   "pygments_lexer": "ipython3",
   "version": "3.11.2"
  }
 },
 "nbformat": 4,
 "nbformat_minor": 5
}
