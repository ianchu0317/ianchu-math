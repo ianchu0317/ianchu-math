{
 "cells": [
  {
   "cell_type": "code",
   "execution_count": 8,
   "id": "04bc7f7c-ed8d-4e36-9378-9adb53114d70",
   "metadata": {},
   "outputs": [
    {
     "data": {
      "text/latex": [
       "$\\displaystyle \\left(2\\right)\\mathbf{\\hat{i}_{S}} + \\left(4\\right)\\mathbf{\\hat{j}_{S}}$"
      ],
      "text/plain": [
       "2*S.i + 4*S.j"
      ]
     },
     "execution_count": 8,
     "metadata": {},
     "output_type": "execute_result"
    }
   ],
   "source": [
    "import sympy\n",
    "from sympy.vector import CoordSys3D\n",
    "\n",
    "S = CoordSys3D('S')\n",
    "a = S.i + 2*S.j\n",
    "b = -1*S.i + -2*S.j\n",
    "\n",
    "a - b"
   ]
  },
  {
   "cell_type": "code",
   "execution_count": null,
   "id": "64ebfd47-95ce-48f0-b40a-02150a94a7be",
   "metadata": {},
   "outputs": [],
   "source": []
  }
 ],
 "metadata": {
  "kernelspec": {
   "display_name": "Python 3 (ipykernel)",
   "language": "python",
   "name": "python3"
  },
  "language_info": {
   "codemirror_mode": {
    "name": "ipython",
    "version": 3
   },
   "file_extension": ".py",
   "mimetype": "text/x-python",
   "name": "python",
   "nbconvert_exporter": "python",
   "pygments_lexer": "ipython3",
   "version": "3.11.2"
  }
 },
 "nbformat": 4,
 "nbformat_minor": 5
}
