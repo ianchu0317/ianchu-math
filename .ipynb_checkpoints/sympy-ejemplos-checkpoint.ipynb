{
 "cells": [
  {
   "cell_type": "code",
   "execution_count": 2,
   "id": "e3dfc665-3f62-4ceb-8ff6-3507dee04431",
   "metadata": {},
   "outputs": [],
   "source": [
    "import sympy"
   ]
  },
  {
   "cell_type": "code",
   "execution_count": 4,
   "id": "7037bc64-29e7-4e55-8bd8-c5a154a1c5a1",
   "metadata": {},
   "outputs": [],
   "source": [
    "# variable x, y en python representan simbolos a y b; x=a, y=b\n",
    "x, y = sympy.symbols('a b')"
   ]
  },
  {
   "cell_type": "code",
   "execution_count": 9,
   "id": "f44f21c7-43f6-43ed-a0da-8b3cdbb0607e",
   "metadata": {},
   "outputs": [
    {
     "data": {
      "text/latex": [
       "$\\displaystyle 2 a + 1$"
      ],
      "text/plain": [
       "2*a + 1"
      ]
     },
     "execution_count": 9,
     "metadata": {},
     "output_type": "execute_result"
    }
   ],
   "source": [
    "expr = 2*x + 1\n",
    "expr\n"
   ]
  },
  {
   "cell_type": "code",
   "execution_count": 15,
   "id": "b877e7e1-0a40-4255-80ec-3b96e241ad56",
   "metadata": {},
   "outputs": [
    {
     "data": {
      "text/latex": [
       "$\\displaystyle a \\left(a^{2} - 1\\right)$"
      ],
      "text/plain": [
       "a*(a**2 - 1)"
      ]
     },
     "execution_count": 15,
     "metadata": {},
     "output_type": "execute_result"
    }
   ],
   "source": [
    "# factorización sympy.factor() y distribución sympy.expand() \n",
    "expr_1 = x * (x**2 - 1)\n",
    "expr_1"
   ]
  },
  {
   "cell_type": "code",
   "execution_count": 16,
   "id": "3e6f5643-37a9-40c0-ac31-d382eba67649",
   "metadata": {},
   "outputs": [
    {
     "data": {
      "text/latex": [
       "$\\displaystyle a \\left(a - 1\\right) \\left(a + 1\\right)$"
      ],
      "text/plain": [
       "a*(a - 1)*(a + 1)"
      ]
     },
     "execution_count": 16,
     "metadata": {},
     "output_type": "execute_result"
    }
   ],
   "source": [
    "expr_fact = sympy.factor(expr_1)\n",
    "expr_fact"
   ]
  },
  {
   "cell_type": "code",
   "execution_count": 19,
   "id": "cb31517d-a039-44d9-a6e5-7d6aaf224e3e",
   "metadata": {},
   "outputs": [
    {
     "data": {
      "text/latex": [
       "$\\displaystyle a^{3} - a$"
      ],
      "text/plain": [
       "a**3 - a"
      ]
     },
     "execution_count": 19,
     "metadata": {},
     "output_type": "execute_result"
    }
   ],
   "source": [
    "expr_distr = sympy.expand(expr_1)\n",
    "expr_distr"
   ]
  },
  {
   "cell_type": "code",
   "execution_count": 21,
   "id": "4dabf37f-d4a7-4b25-9061-d7ce62c5a210",
   "metadata": {},
   "outputs": [
    {
     "data": {
      "text/latex": [
       "$\\displaystyle 3 a^{2} - 1$"
      ],
      "text/plain": [
       "3*a**2 - 1"
      ]
     },
     "execution_count": 21,
     "metadata": {},
     "output_type": "execute_result"
    }
   ],
   "source": [
    "# Derivadas sympy.diff(ecuacion, variable)\n",
    "expr_diff = sympy.diff(expr_distr, x)\n",
    "expr_diff"
   ]
  },
  {
   "cell_type": "code",
   "execution_count": 24,
   "id": "fc4e62fb-1199-4fab-8053-7cec61d0c983",
   "metadata": {},
   "outputs": [
    {
     "data": {
      "text/latex": [
       "$\\displaystyle a^{3} - a$"
      ],
      "text/plain": [
       "a**3 - a"
      ]
     },
     "execution_count": 24,
     "metadata": {},
     "output_type": "execute_result"
    }
   ],
   "source": [
    "# integrales sympy.integrate(ecuacion, variable) // sympy.integrate(ecuacion, (variable, definido_inicio, definido_fin))\n",
    "expr_integral = sympy.integrate(expr_diff, x)\n",
    "expr_integral"
   ]
  },
  {
   "cell_type": "code",
   "execution_count": 29,
   "id": "d931f1f5-a9c9-4646-b223-ecd3e2525e58",
   "metadata": {},
   "outputs": [
    {
     "name": "stdout",
     "output_type": "stream",
     "text": [
      "sin(a)/a\n",
      "1\n"
     ]
    }
   ],
   "source": [
    "# límites sympy.limit(ecuacion, variable, tendencia)\n",
    "new_expr = sympy.sin(x)/x\n",
    "print(new_expr)\n",
    "limite = sympy.limit(new_expr, x, 0)\n",
    "print(limite)"
   ]
  },
  {
   "cell_type": "code",
   "execution_count": 33,
   "id": "71fd09a5-a1b5-40df-998e-0d0e63020082",
   "metadata": {},
   "outputs": [
    {
     "data": {
      "text/plain": [
       "[-sqrt(2), sqrt(2)]"
      ]
     },
     "execution_count": 33,
     "metadata": {},
     "output_type": "execute_result"
    }
   ],
   "source": [
    "# ecuacion sympy.solve(ecuacion, variable a despejar)\n",
    "sympy.solve(x**2 - 2, x)"
   ]
  },
  {
   "cell_type": "code",
   "execution_count": 35,
   "id": "db16b9e5-e002-4754-85d2-244e8f562c2f",
   "metadata": {},
   "outputs": [
    {
     "data": {
      "text/plain": [
       "[0,\n",
       " -5/3 - 95/(24*(-1/2 - sqrt(3)*I/2)*(15*sqrt(13890)/32 + 275/4)**(1/3)) - (-1/2 - sqrt(3)*I/2)*(15*sqrt(13890)/32 + 275/4)**(1/3)/3,\n",
       " -5/3 - (-1/2 + sqrt(3)*I/2)*(15*sqrt(13890)/32 + 275/4)**(1/3)/3 - 95/(24*(-1/2 + sqrt(3)*I/2)*(15*sqrt(13890)/32 + 275/4)**(1/3)),\n",
       " -5/3 - (15*sqrt(13890)/32 + 275/4)**(1/3)/3 - 95/(24*(15*sqrt(13890)/32 + 275/4)**(1/3))]"
      ]
     },
     "execution_count": 35,
     "metadata": {},
     "output_type": "execute_result"
    }
   ],
   "source": [
    "# Crear ecuacion sympy.Eq(expresion)\n",
    "ecuacion = sympy.Eq(8*x**4 + 40*x**3 + 35*x**2 + 25*x, 0)\n",
    "sympy.solve(ecuacion, x)"
   ]
  },
  {
   "cell_type": "code",
   "execution_count": null,
   "id": "6fcafd38-53d6-4896-a5be-2f0a02c18711",
   "metadata": {},
   "outputs": [],
   "source": []
  }
 ],
 "metadata": {
  "kernelspec": {
   "display_name": "Python 3 (ipykernel)",
   "language": "python",
   "name": "python3"
  },
  "language_info": {
   "codemirror_mode": {
    "name": "ipython",
    "version": 3
   },
   "file_extension": ".py",
   "mimetype": "text/x-python",
   "name": "python",
   "nbconvert_exporter": "python",
   "pygments_lexer": "ipython3",
   "version": "3.11.2"
  }
 },
 "nbformat": 4,
 "nbformat_minor": 5
}
